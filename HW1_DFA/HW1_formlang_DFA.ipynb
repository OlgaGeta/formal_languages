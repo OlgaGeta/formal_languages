{
  "cells": [
    {
      "cell_type": "code",
      "execution_count": 1,
      "id": "ff37b881",
      "metadata": {
        "id": "ff37b881"
      },
      "outputs": [],
      "source": [
        "from typing import Dict, List, Set, Tuple\n",
        "import copy"
      ]
    },
    {
      "cell_type": "code",
      "execution_count": 2,
      "id": "KUvrhhWARCGo",
      "metadata": {
        "id": "KUvrhhWARCGo"
      },
      "outputs": [],
      "source": [
        "EPSILON = 'EPSILON'"
      ]
    },
    {
      "cell_type": "markdown",
      "source": [
        "Напоминалка для реализации в каждом классе.\n",
        "- accept(self, input_string) - функция, которая проверяет, принимает ли автомат входную строку input_string.\n",
        "- num_states(self) - позволяет получить общее количество состояний детерминированного автомата\n",
        "- keys(self)-  возвращает список всех ключей в таблице переходов автомата."
      ],
      "metadata": {
        "id": "c8lC7Wusa_6_"
      },
      "id": "c8lC7Wusa_6_"
    },
    {
      "cell_type": "code",
      "execution_count": 3,
      "id": "44eca536",
      "metadata": {
        "id": "44eca536"
      },
      "outputs": [],
      "source": [
        "class Automat:\n",
        "    def accept(self, input_string):\n",
        "        raise NotImplementedError()\n",
        "\n",
        "    def num_states(self):\n",
        "        raise NotImplementedError()\n",
        "\n",
        "    def keys(self):\n",
        "        raise NotImplementedError()"
      ]
    },
    {
      "cell_type": "markdown",
      "source": [
        "Реализация недетерминированного автомата. Создание, модификация и работа с недетерминированными автоматами"
      ],
      "metadata": {
        "id": "eAtEB-P2bB5T"
      },
      "id": "eAtEB-P2bB5T"
    },
    {
      "cell_type": "code",
      "execution_count": 4,
      "id": "edbf4c62",
      "metadata": {
        "id": "edbf4c62"
      },
      "outputs": [],
      "source": [
        "class NonDeterministicAutomat(Automat):\n",
        "    def __init__(self, table: Dict[str, List[List[int]]], result_states):\n",
        "        self.table = table\n",
        "        self.result_states = result_states\n",
        "        self.states = None\n",
        "\n",
        "    #Получение следующего состояния автомата при переходе из заданного состояния по символу\n",
        "    def nextState(self, state, char):\n",
        "      if char not in self.table:\n",
        "        raise ValueError(\"Символ не может быть принят\")\n",
        "      return self.table[char][state] if char in self.table else None\n",
        "\n",
        "    #Установка перехода из одного состояния в другое по заданному символу\n",
        "    def set_trans(self, start, char, finish):\n",
        "        if char not in self.table:\n",
        "            self.table[char] = [[] for _ in range(self.num_states())]\n",
        "        self.table[char][start].append(finish)\n",
        "\n",
        "    #Выполнение перехода из набора состояний по заданному символу\n",
        "    def step(self, old_state, char):\n",
        "      let_step = set()\n",
        "      for state in old_state:\n",
        "        let_step.update(self.nextState(state, char))\n",
        "        if EPSILON in self.table.keys():\n",
        "            let_step.update(sum([self.e_closure(s) for s in let_step], []))\n",
        "      return list(let_step) if let_step else []\n",
        "\n",
        "\n",
        "    def copy(self):\n",
        "      new_table = copy.deepcopy(self.table)\n",
        "      result = copy.deepcopy(self.result_states)\n",
        "      copied_instance = NonDeterministicAutomat(new_table, result)\n",
        "      return copied_instance\n",
        "\n",
        "    #Вычисление эпсилон-замыкания\n",
        "    def e_closure(self, state):\n",
        "        if EPSILON not in self.table.keys():\n",
        "            return [state]\n",
        "        visited = []\n",
        "        active = [state]\n",
        "        while len(active) != 0:\n",
        "            new_active = []\n",
        "            for s in active:\n",
        "                new_active.extend(self.table[EPSILON][s])\n",
        "            visited = list(set(visited + active))\n",
        "            active = list(set(new_active).difference(visited))\n",
        "        return visited\n",
        "\n",
        "\n",
        "    def accept(self, input_string):\n",
        "        self.states = self.e_closure(0)\n",
        "        try:\n",
        "            for c in input_string:\n",
        "                self.states = self.step(self.states, c)\n",
        "            for state in self.states:\n",
        "                if set(self.e_closure(state)).intersection(self.result_states):\n",
        "                    return True\n",
        "            return False\n",
        "        except ValueError:\n",
        "            return False\n",
        "\n",
        "\n",
        "    def num_states(self):\n",
        "        return len(list(self.table.values())[0])\n",
        "\n",
        "\n",
        "    def keys(self):\n",
        "        return list(self.table.keys())\n"
      ]
    },
    {
      "cell_type": "markdown",
      "source": [
        "Реализация детерминированного автомата. Отправка части функциональности недетерминированному автомату через прокси"
      ],
      "metadata": {
        "id": "PDTFWvbsNEbJ"
      },
      "id": "PDTFWvbsNEbJ"
    },
    {
      "cell_type": "code",
      "execution_count": 5,
      "id": "31714ea9",
      "metadata": {
        "id": "31714ea9"
      },
      "outputs": [],
      "source": [
        "class DeterministicAutomat(Automat):\n",
        "    def __init__(self, table: Dict[str, List[int]], result_states: List[int]):\n",
        "        self.table = table\n",
        "        self.result_states = result_states\n",
        "        proxy_table = {}\n",
        "        for char, states in table.items():\n",
        "            proxy_table[char] = [[state] if state is not None else [] for state in states]\n",
        "        self.proxy = NonDeterministicAutomat(proxy_table, result_states)\n",
        "\n",
        "\n",
        "    def accept(self, input_string):\n",
        "        return self.proxy.accept(input_string)\n",
        "\n",
        "\n",
        "    def num_states(self):\n",
        "        return self.proxy.num_states()\n",
        "\n",
        "\n",
        "    def keys(self):\n",
        "        return self.proxy.keys()\n"
      ]
    },
    {
      "cell_type": "markdown",
      "source": [
        "Объединяем два недетерминированных автомата automat1 и automat2 в один автомат путем объединения их таблиц переходов и списков конечных состояний"
      ],
      "metadata": {
        "id": "jDIXG_zdOG71"
      },
      "id": "jDIXG_zdOG71"
    },
    {
      "cell_type": "code",
      "execution_count": 6,
      "id": "3831b4d4",
      "metadata": {
        "id": "3831b4d4"
      },
      "outputs": [],
      "source": [
        "def combine_automat(automat1, automat2):\n",
        "    #Объединяю ключи таблиц переходов\n",
        "    keys = set(list(automat1.table.keys()) + list(automat2.table.keys()))\n",
        "    #список состояний-результатов для объединенного автомата\n",
        "    result = [state + automat1.num_states() for state in automat2.result_states]\n",
        "    result.extend(automat1.result_states)\n",
        "    new_table = {}\n",
        "    '''\n",
        "    Для каждого ключа нового множества: если ключ есть в таблице перехода автомата1,добавляем его переходы в новый список,\n",
        "      иначе- пустые переходы для каждого состояния автомата1.\n",
        "      Если ключ есть в таблице переходов автомата2, добавляем его переходы в новый список,\n",
        "      прибавляя значение состояний автомата 1 к переходам, иначе- добавляем пустые переходы для каждого состояния автомата2\n",
        "    '''\n",
        "    for k in keys:\n",
        "        new_row = []\n",
        "        if k in automat1.table:\n",
        "            new_row.extend(automat1.table[k])\n",
        "        else:\n",
        "            new_row.extend([[] for _ in range(automat1.num_states())])\n",
        "        if k in automat2.table:\n",
        "            new_row.extend([[s + automat1.num_states() for s in states] for states in automat2.table[k]])\n",
        "        else:\n",
        "            new_row.extend([[] for _ in range(automat2.num_states())])\n",
        "        new_table[k] = new_row\n",
        "    table = new_table\n",
        "    result_states = result\n",
        "    merged_automat = NonDeterministicAutomat(table, result_states)\n",
        "    return merged_automat"
      ]
    },
    {
      "cell_type": "markdown",
      "source": [
        "Задаем ход работы с автоматами для использования операторов"
      ],
      "metadata": {
        "id": "Qngnt17vO4ia"
      },
      "id": "Qngnt17vO4ia"
    },
    {
      "cell_type": "code",
      "execution_count": 7,
      "id": "26c9ad7b",
      "metadata": {
        "id": "26c9ad7b"
      },
      "outputs": [],
      "source": [
        "#для ,\n",
        "def matching(automat1, automat2):\n",
        "    merged = combine_automat(automat1, automat2)\n",
        "    for start in automat1.result_states:\n",
        "        merged.set_trans(start, EPSILON, automat1.num_states())\n",
        "    merged.result_states = [s + automat1.num_states() for s in automat2.result_states]\n",
        "    return merged"
      ]
    },
    {
      "cell_type": "code",
      "execution_count": 8,
      "id": "13050bc6",
      "metadata": {
        "id": "13050bc6"
      },
      "outputs": [],
      "source": [
        "#для ;\n",
        "def next(automat1, automat2):\n",
        "    merged = combine_automat(automat1, automat2)\n",
        "    shifted_finals = [f + 1 for f in merged.result_states]\n",
        "    shifted_table = {}\n",
        "    for char, state_list in merged.table.items():\n",
        "        shifted_table[char] = [[]] + [[state + 1 for state in states] for states in state_list] + [[]]\n",
        "    new = NonDeterministicAutomat(table=shifted_table, result_states=[])\n",
        "    new.set_trans(0, EPSILON, 1)\n",
        "    new.set_trans(0, EPSILON, automat1.num_states() + 1)\n",
        "    for f in shifted_finals:\n",
        "        new.set_trans(f, EPSILON, new.num_states() - 1)\n",
        "    new.result_states = [new.num_states() - 1]\n",
        "    result_next = new\n",
        "    return result_next"
      ]
    },
    {
      "cell_type": "code",
      "execution_count": 9,
      "id": "4f9aa794",
      "metadata": {
        "id": "4f9aa794"
      },
      "outputs": [],
      "source": [
        "#для *\n",
        "def multiplication(automat1):\n",
        "    shifted_finals = [f + 1 for f in automat1.result_states]\n",
        "    shifted_table = {}\n",
        "    for char, state_list in automat1.table.items():\n",
        "        shifted_table[char] = [[]] + [[state + 1 for state in states] for states in state_list] + [[]]\n",
        "    new = NonDeterministicAutomat(table=shifted_table, result_states=[])\n",
        "    for f in shifted_finals:\n",
        "        new.set_trans(f, EPSILON, 1)\n",
        "        new.set_trans(f, EPSILON, new.num_states() - 1)\n",
        "    new.set_trans(0, EPSILON, 1)\n",
        "    new.set_trans(0, EPSILON, new.num_states() - 1)\n",
        "    new.result_states = [new.num_states() - 1]\n",
        "    result_mult = new\n",
        "    return result_mult"
      ]
    },
    {
      "cell_type": "code",
      "execution_count": 10,
      "id": "358b45b4",
      "metadata": {
        "id": "358b45b4"
      },
      "outputs": [],
      "source": [
        "# для +\n",
        "def merged(automat1):\n",
        "    return matching(automat1, multiplication(automat1))"
      ]
    },
    {
      "cell_type": "code",
      "source": [
        "#для #\n",
        "def generalized_iteration(automat1, automat2):\n",
        "    return matching(automat1, multiplication(matching(automat2, automat1)))"
      ],
      "metadata": {
        "id": "fqB3_FyIPecK"
      },
      "id": "fqB3_FyIPecK",
      "execution_count": 11,
      "outputs": []
    },
    {
      "cell_type": "code",
      "source": [
        "# возможность принять пустую строку\n",
        "def optional(automat1):\n",
        "    automat1_copy = automat1.copy()\n",
        "    for f in automat1_copy.result_states:\n",
        "        automat1_copy.set_trans(0, EPSILON, f)\n",
        "    return automat1_copy"
      ],
      "metadata": {
        "id": "PaQAbZQ7PgDT"
      },
      "id": "PaQAbZQ7PgDT",
      "execution_count": 12,
      "outputs": []
    },
    {
      "cell_type": "markdown",
      "source": [
        "создание недетерминированного автомата для actual_string"
      ],
      "metadata": {
        "id": "Qheh46AsQJ9X"
      },
      "id": "Qheh46AsQJ9X"
    },
    {
      "cell_type": "code",
      "execution_count": 13,
      "id": "fbffd128",
      "metadata": {
        "id": "fbffd128"
      },
      "outputs": [],
      "source": [
        "def primitive_fnda(actual_string):\n",
        "    table: Dict[str, List[List[int]]] = {}\n",
        "    for i, c in enumerate(actual_string):\n",
        "        if c not in table:\n",
        "            table[c] = [[] for _ in range(len(actual_string) + 1)]\n",
        "        table[c][i].append(i + 1)\n",
        "    table=table\n",
        "    result_states=[len(actual_string)]\n",
        "    return NonDeterministicAutomat(table,result_states)\n",
        "\n",
        "\n",
        "operations = {\n",
        "    '*': multiplication,\n",
        "    '+': merged,\n",
        "    ';': next,\n",
        "    ',': matching,\n",
        "    '#': generalized_iteration,\n",
        "    '?': optional\n",
        "    }\n",
        "\n",
        "\n",
        "priorities = {\n",
        "    ';': 0,\n",
        "    '#': 1,\n",
        "    ',': 1,\n",
        "    '*': 2,\n",
        "    '+': 2,\n",
        "    '?': 2\n",
        "    }\n",
        "\n",
        "binary = [';', '#', ',']\n",
        "unary = ['*', '+', '?']\n",
        "\n",
        "\n",
        "def is_character(c):\n",
        "    return c not in {*operations.keys(), '(', ')'}\n",
        "\n",
        "\n"
      ]
    },
    {
      "cell_type": "markdown",
      "source": [
        "преобразование регулярки"
      ],
      "metadata": {
        "id": "NVPWnAQxQZH8"
      },
      "id": "NVPWnAQxQZH8"
    },
    {
      "cell_type": "code",
      "execution_count": 14,
      "id": "b2336026",
      "metadata": {
        "id": "b2336026"
      },
      "outputs": [],
      "source": [
        "def regex_p(regexp):\n",
        "    if len(regexp) == 0:\n",
        "        return ''\n",
        "    new = []\n",
        "    last = None\n",
        "    for c in regexp:\n",
        "        if last is None:\n",
        "            last = c\n",
        "            new.append(c)\n",
        "            continue\n",
        "        if last in unary and c == '(' \\\n",
        "                or last in unary and is_character(c) \\\n",
        "                or is_character(last) and is_character(c) \\\n",
        "                or last == ')' and is_character(c) \\\n",
        "                or is_character(last) and c == '(':\n",
        "            new.append(',')\n",
        "        new.append(c)\n",
        "        last = c\n",
        "    return ''.join(new)"
      ]
    },
    {
      "cell_type": "markdown",
      "source": [
        "строим недетерминированный конечный автомат на основе регулярки"
      ],
      "metadata": {
        "id": "k9j7Y4l3QlTX"
      },
      "id": "k9j7Y4l3QlTX"
    },
    {
      "cell_type": "code",
      "execution_count": 15,
      "id": "9629af58",
      "metadata": {
        "id": "9629af58"
      },
      "outputs": [],
      "source": [
        "def construct_fnda(regexp):\n",
        "    data = ''\n",
        "    op_stack = []\n",
        "    eval_stack = []\n",
        "\n",
        "    # Функция для обработки операторов в соответствии с их приоритетами. Извлекаем операторы из стека операторов\n",
        "    def process_operator(priority=-1):\n",
        "        while len(op_stack) != 0 \\\n",
        "                and op_stack[-1] != '(' \\\n",
        "                and (op_stack[-1] not in operations.keys() or priorities[op_stack[-1]] > priority):\n",
        "            op = op_stack[-1]\n",
        "            if op in binary:\n",
        "                eval_stack.append(operations[op](eval_stack[-2], eval_stack[-1]))\n",
        "                eval_stack.pop(-2)\n",
        "                eval_stack.pop(-2)\n",
        "                op_stack.pop()\n",
        "            elif op in unary:\n",
        "                eval_stack.append(operations[op](eval_stack[-1]))\n",
        "                eval_stack.pop(-2)\n",
        "                op_stack.pop()\n",
        "        if priority == -1 and len(op_stack) != 0 and op_stack[-1] == '(':\n",
        "            op_stack.pop()\n",
        "    regexp = regex_p(regexp)\n",
        "\n",
        "    for c in regexp:\n",
        "        if c in list(operations.keys()) + ['(', ')']:\n",
        "            if data != '':\n",
        "                eval_stack.append(primitive_fnda(data))\n",
        "            data = ''\n",
        "        if c in operations:\n",
        "            if len(op_stack) == 0 or op_stack[-1] in ['(', ')'] or priorities[op_stack[-1]] < priorities[c]:\n",
        "                op_stack.append(c)\n",
        "            else:\n",
        "                process_operator(priorities[c])\n",
        "                op_stack.append(c)\n",
        "        elif c == '(':\n",
        "            op_stack.append('(')\n",
        "        elif c == ')':\n",
        "            process_operator()\n",
        "        else:\n",
        "            data += c\n",
        "\n",
        "    if data != '':\n",
        "        eval_stack.append(primitive_fnda(data))\n",
        "    process_operator()\n",
        "    return eval_stack[-1]\n",
        "\n"
      ]
    },
    {
      "cell_type": "markdown",
      "source": [
        "конвертация недерменированного конечного автомата в детерменированный."
      ],
      "metadata": {
        "id": "TPCRgphKRACm"
      },
      "id": "TPCRgphKRACm"
    },
    {
      "cell_type": "code",
      "execution_count": 16,
      "id": "d789036b",
      "metadata": {
        "id": "d789036b"
      },
      "outputs": [],
      "source": [
        "def convert_to_fda(fnda):\n",
        "    links = []\n",
        "    # Множество новых состояний, начиная с эпсилон состояния 0\n",
        "    newStates = [set(fnda.e_closure(0))]\n",
        "    visitedStates = []\n",
        "    keys = [x for x in list(fnda.table.keys()) if x != EPSILON]\n",
        "    while len(newStates) > 0:\n",
        "        tmp = newStates.pop()\n",
        "        # Если состояние уже посещено, пропускаем его\n",
        "        if tmp in visitedStates:\n",
        "            continue\n",
        "        # Добавляем состояние в список посещенных\n",
        "        visitedStates.append(tmp)\n",
        "        # Получаем новое состояние после перехода по символу\n",
        "        for char in keys:\n",
        "            newTmp = set(fnda.step(tmp, char))\n",
        "            if len(newTmp) != 0:\n",
        "                newStates.append(newTmp)\n",
        "                links.append((tmp, char, newTmp))\n",
        "    formatted_links = []\n",
        "    # Преобразование ссылок в индексы состояний\n",
        "    for link in links:\n",
        "        formatted_links.append((visitedStates.index(link[0]), link[1], visitedStates.index(link[2])))\n",
        "    links = formatted_links\n",
        "    old_final = set(fnda.result_states)\n",
        "    # Индексы финальных состояний в полученном DFA\n",
        "    result = [i for i, s in enumerate(visitedStates) if s.intersection(old_final)]\n",
        "    new_table = {}\n",
        "    for k in keys:\n",
        "        new_table[k] = [None for _ in enumerate(visitedStates)]\n",
        "    # Заполнение таблицы переходов\n",
        "    for link in links:\n",
        "        new_table[link[1]][link[0]] = link[2]\n",
        "    table=new_table\n",
        "    result_states=result\n",
        "    return DeterministicAutomat(table, result_states)\n"
      ]
    },
    {
      "cell_type": "markdown",
      "source": [
        "минимизация детерминированного конечного автомата"
      ],
      "metadata": {
        "id": "4jZ0fzIeRZdw"
      },
      "id": "4jZ0fzIeRZdw"
    },
    {
      "cell_type": "code",
      "execution_count": 17,
      "id": "9e9fafb2",
      "metadata": {
        "id": "9e9fafb2"
      },
      "outputs": [],
      "source": [
        "def minimize_fda(fda):\n",
        "    def split_set(target, splitter, split_char):\n",
        "        setA = set()\n",
        "        setB = set()\n",
        "        for condition in target:\n",
        "            if fda.table[split_char][condition] in splitter:\n",
        "                setA.add(condition)\n",
        "            else:\n",
        "                setB.add(condition)\n",
        "        return setA, setB\n",
        "\n",
        "    # Инициализация списка классов эквивалентности\n",
        "    sets = [{*fda.result_states}]\n",
        "    non_final = {*list(range(fda.num_states()))}.difference(fda.result_states)\n",
        "    if len(non_final) > 0:\n",
        "        sets.append(non_final)\n",
        "    queue = []\n",
        "    # Формирование очереди разбиений классов эквивалентности\n",
        "    for symbol in fda.keys():\n",
        "        for classs in sets:\n",
        "            queue.append((classs, symbol))\n",
        "    # Построение классов эквивалентности\n",
        "    while len(queue) > 0:\n",
        "        splitter, char = queue.pop(0)\n",
        "        for classs in sets:\n",
        "            setA, setB = split_set(classs, splitter, char)\n",
        "            if len(setA) > 0 and len(setB) > 0:\n",
        "                sets.remove(classs)\n",
        "                sets.extend([setA, setB])\n",
        "                if (classs, char) in queue:\n",
        "                    queue.remove((classs, char))\n",
        "                    queue.append((setA, char))\n",
        "                    queue.append((setB, char))\n",
        "                else:\n",
        "                    if len(setA) < len(setB):\n",
        "                        queue.append((setA, char))\n",
        "                    else:\n",
        "                        queue.append((setB, char))\n",
        "\n",
        "    # Перестановка классов эквивалентности так, чтобы первым был класс состояния 0\n",
        "    first_state_index = [sets.index(classs) for classs in sets if 0 in classs][0]\n",
        "    first_state = sets.pop(first_state_index)\n",
        "    sets.insert(0, first_state)\n",
        "\n",
        "    states = len(sets)\n",
        "    new_table = {k: [None] * states for k in fda.keys()}\n",
        "    # Формирование новой таблицы переходов\n",
        "    for i, classs in enumerate(sets):\n",
        "        for condition in classs:\n",
        "            for symbol in fda.keys():\n",
        "                new_indexes = [sets.index(classs) for classs in sets if fda.table[symbol][condition] in classs]\n",
        "                new_table[symbol][i] = None if len(new_indexes) == 0 else new_indexes[0]\n",
        "\n",
        "    # Формирование нового множества финальных состояний\n",
        "    result = [sets.index(classs) for classs in sets if classs.intersection(fda.result_states)]\n",
        "    table=new_table\n",
        "    result_states=result\n",
        "    return DeterministicAutomat(table, result_states)"
      ]
    },
    {
      "cell_type": "markdown",
      "id": "557467de",
      "metadata": {
        "id": "557467de"
      },
      "source": [
        "Функция для проверки"
      ]
    },
    {
      "cell_type": "code",
      "execution_count": 18,
      "id": "2f58fe89",
      "metadata": {
        "id": "2f58fe89"
      },
      "outputs": [],
      "source": [
        "def match_string(regex, input_string):\n",
        "    fnda = construct_fnda(regex)\n",
        "    fda = convert_to_fda(fnda)\n",
        "    minimized_fda = minimize_fda(fda)\n",
        "    current_state = 0\n",
        "    for char in input_string:\n",
        "        if char not in minimized_fda.keys():\n",
        "            return False\n",
        "        nextState = minimized_fda.table[char][current_state]\n",
        "        if nextState is None:\n",
        "            return False\n",
        "        current_state = nextState\n",
        "    return current_state in minimized_fda.result_states\n"
      ]
    },
    {
      "cell_type": "markdown",
      "id": "4c71cd6d",
      "metadata": {
        "id": "4c71cd6d"
      },
      "source": [
        "Возвращает результат проверки, True если входная строка соответствует регулярному выражению, и False в противном случае."
      ]
    },
    {
      "cell_type": "code",
      "execution_count": 19,
      "id": "69ee2237",
      "metadata": {
        "colab": {
          "base_uri": "https://localhost:8080/"
        },
        "id": "69ee2237",
        "outputId": "afcc5014-737e-4d44-860f-bbfe39bf8d95"
      },
      "outputs": [
        {
          "output_type": "stream",
          "name": "stdout",
          "text": [
            "Введите регулярное выражение: a*b+c\n",
            "Введите строку для проверки: aabc\n",
            "Результат: True\n"
          ]
        }
      ],
      "source": [
        "regex = input(\"Введите регулярное выражение: \")\n",
        "input_string = input(\"Введите строку для проверки: \")\n",
        "\n",
        "res = match_string(regex, input_string)\n",
        "print(\"Результат:\", res)\n"
      ]
    },
    {
      "cell_type": "code",
      "execution_count": 20,
      "id": "1dc326e8",
      "metadata": {
        "id": "1dc326e8",
        "colab": {
          "base_uri": "https://localhost:8080/"
        },
        "outputId": "4ee2d793-4073-411d-f0d2-05e52aebe558"
      },
      "outputs": [
        {
          "output_type": "stream",
          "name": "stdout",
          "text": [
            "Введите регулярное выражение: a*b+c\n",
            "Введите строку для проверки: abbc\n",
            "Результат: True\n"
          ]
        }
      ],
      "source": [
        "regex = input(\"Введите регулярное выражение: \")\n",
        "input_string = input(\"Введите строку для проверки: \")\n",
        "\n",
        "res = match_string(regex, input_string)\n",
        "print(\"Результат:\", res)"
      ]
    },
    {
      "cell_type": "code",
      "execution_count": 21,
      "id": "f0853d84",
      "metadata": {
        "id": "f0853d84",
        "colab": {
          "base_uri": "https://localhost:8080/"
        },
        "outputId": "9df7dd11-0d4a-4b9f-c18d-424be599b25b"
      },
      "outputs": [
        {
          "output_type": "stream",
          "name": "stdout",
          "text": [
            "Введите регулярное выражение: a*b+c\n",
            "Введите строку для проверки: aaabc\n",
            "Результат: True\n"
          ]
        }
      ],
      "source": [
        "regex = input(\"Введите регулярное выражение: \")\n",
        "input_string = input(\"Введите строку для проверки: \")\n",
        "\n",
        "res = match_string(regex, input_string)\n",
        "print(\"Результат:\", res)"
      ]
    },
    {
      "cell_type": "code",
      "source": [
        "regex = input(\"Введите регулярное выражение: \")\n",
        "input_string = input(\"Введите строку для проверки: \")\n",
        "\n",
        "res = match_string(regex, input_string)\n",
        "print(\"Результат:\", res)"
      ],
      "metadata": {
        "colab": {
          "base_uri": "https://localhost:8080/"
        },
        "id": "_3D2cZ3fYz0G",
        "outputId": "a60df075-5b05-471e-e659-068f6875e635"
      },
      "id": "_3D2cZ3fYz0G",
      "execution_count": 22,
      "outputs": [
        {
          "output_type": "stream",
          "name": "stdout",
          "text": [
            "Введите регулярное выражение: a*b+c\n",
            "Введите строку для проверки: abcc\n",
            "Результат: False\n"
          ]
        }
      ]
    },
    {
      "cell_type": "code",
      "source": [
        "regex = input(\"Введите регулярное выражение: \")\n",
        "input_string = input(\"Введите строку для проверки: \")\n",
        "\n",
        "res = match_string(regex, input_string)\n",
        "print(\"Результат:\", res)"
      ],
      "metadata": {
        "colab": {
          "base_uri": "https://localhost:8080/"
        },
        "id": "8SQbTjhbYz2s",
        "outputId": "11911672-2a60-421b-f23f-e120f30f6e82"
      },
      "id": "8SQbTjhbYz2s",
      "execution_count": 25,
      "outputs": [
        {
          "output_type": "stream",
          "name": "stdout",
          "text": [
            "Введите регулярное выражение: a*m*k\n",
            "Введите строку для проверки: amk\n",
            "Результат: True\n"
          ]
        }
      ]
    },
    {
      "cell_type": "code",
      "source": [
        "regex = input(\"Введите регулярное выражение: \")\n",
        "input_string = input(\"Введите строку для проверки: \")\n",
        "\n",
        "res = match_string(regex, input_string)\n",
        "print(\"Результат:\", res)"
      ],
      "metadata": {
        "colab": {
          "base_uri": "https://localhost:8080/"
        },
        "id": "DKEBlaRAZaBu",
        "outputId": "91fb5b9c-60f4-4415-b7ab-bef742d8c4a4"
      },
      "id": "DKEBlaRAZaBu",
      "execution_count": 32,
      "outputs": [
        {
          "output_type": "stream",
          "name": "stdout",
          "text": [
            "Введите регулярное выражение: a*m,k\n",
            "Введите строку для проверки: amk\n",
            "Результат: True\n"
          ]
        }
      ]
    },
    {
      "cell_type": "code",
      "source": [],
      "metadata": {
        "id": "xRyjItqEZaEL"
      },
      "id": "xRyjItqEZaEL",
      "execution_count": null,
      "outputs": []
    },
    {
      "cell_type": "code",
      "source": [],
      "metadata": {
        "id": "MQLgRI19ZaGX"
      },
      "id": "MQLgRI19ZaGX",
      "execution_count": null,
      "outputs": []
    }
  ],
  "metadata": {
    "colab": {
      "provenance": []
    },
    "kernelspec": {
      "display_name": "Python 3 (ipykernel)",
      "language": "python",
      "name": "python3"
    },
    "language_info": {
      "codemirror_mode": {
        "name": "ipython",
        "version": 3
      },
      "file_extension": ".py",
      "mimetype": "text/x-python",
      "name": "python",
      "nbconvert_exporter": "python",
      "pygments_lexer": "ipython3",
      "version": "3.9.16"
    }
  },
  "nbformat": 4,
  "nbformat_minor": 5
}
